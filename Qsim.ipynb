{
  "cells": [
    {
      "cell_type": "code",
      "execution_count": null,
      "id": "25596175-0fe5-4d69-9173-6db84f3dc4dc",
      "metadata": {
        "collapsed": true,
        "jupyter": {
          "outputs_hidden": true
        },
        "tags": [],
        "id": "25596175-0fe5-4d69-9173-6db84f3dc4dc"
      },
      "outputs": [],
      "source": [
        "!pip install qiskit[visualization]==1.1.0\n",
        "!pip install qiskit_ibm_runtime\n",
        "!pip install matplotlib\n",
        "!pip install pylatexenc\n",
        "!pip install networkx"
      ]
    },
    {
      "cell_type": "code",
      "execution_count": 3,
      "id": "4ffa3e60-23fc-45cb-aa77-cbc8d3b793ed",
      "metadata": {
        "tags": [],
        "id": "4ffa3e60-23fc-45cb-aa77-cbc8d3b793ed"
      },
      "outputs": [],
      "source": [
        "from qiskit.circuit import QuantumCircuit, Parameter\n",
        "from qiskit.circuit.library import PauliEvolutionGate\n",
        "from qiskit.quantum_info import SparsePauliOp\n",
        "from qiskit_ibm_runtime import QiskitRuntimeService\n",
        "from qiskit.transpiler import CouplingMap\n",
        "from qiskit.transpiler.preset_passmanagers import generate_preset_pass_manager\n",
        "from qiskit.synthesis import LieTrotter\n",
        "\n",
        "from qiskit_ibm_runtime.options import EstimatorOptions, DynamicalDecouplingOptions\n",
        "from qiskit_ibm_runtime import EstimatorV2, Batch\n",
        "\n",
        "import numpy as np\n",
        "import matplotlib.pyplot as plt\n",
        "import seaborn as sns\n",
        "import json\n",
        "from scipy.interpolate import make_interp_spline\n",
        "\n"
      ]
    },
    {
      "cell_type": "code",
      "execution_count": 4,
      "id": "a8018afc-f471-422c-af65-1323f40979e5",
      "metadata": {
        "tags": [],
        "id": "a8018afc-f471-422c-af65-1323f40979e5"
      },
      "outputs": [],
      "source": [
        "# Initial definations\n",
        "\n",
        "num_spins = 50\n",
        "#anisotropy = 1.\n",
        "#h = 1.\n",
        "dt = Parameter('δt')"
      ]
    },
    {
      "cell_type": "code",
      "execution_count": null,
      "id": "32dde6a9-e0b1-4404-b467-f12f9e959aa5",
      "metadata": {
        "scrolled": true,
        "tags": [],
        "id": "32dde6a9-e0b1-4404-b467-f12f9e959aa5"
      },
      "outputs": [],
      "source": [
        "def build_layered_hamiltonian(num_spins, anisotropy, h):\n",
        "\n",
        "    lattice_map = CouplingMap.from_line(num_spins, bidirectional=False)\n",
        "    edgelist = lattice_map.graph.edge_list()\n",
        "    hamlist_even = []\n",
        "    hamlist_odd = []\n",
        "\n",
        "    for edge in edgelist:\n",
        "        if edge[0]%2==0:\n",
        "            hamlist_even.append((\"XX\", edge, 1.))\n",
        "            hamlist_even.append((\"YY\", edge, 1.))\n",
        "            hamlist_even.append((\"ZZ\", edge, anisotropy))\n",
        "        else:\n",
        "            hamlist_odd.append((\"XX\", edge, 1.))\n",
        "            hamlist_odd.append((\"YY\", edge, 1.))\n",
        "            hamlist_odd.append((\"ZZ\", edge, anisotropy))\n",
        "\n",
        "    for qubit in lattice_map.physical_qubits:\n",
        "        hamlist_even.append((\"X\", [qubit], h))\n",
        "\n",
        "    hamiltonian_even = SparsePauliOp.from_sparse_list(hamlist_even, num_qubits=num_spins)\n",
        "    hamiltonian_odd = SparsePauliOp.from_sparse_list(hamlist_odd, num_qubits=num_spins)\n",
        "\n",
        "    return hamiltonian_even+hamiltonian_odd\n",
        "print(build_layered_hamiltonian(10, 1, 1))"
      ]
    },
    {
      "cell_type": "code",
      "execution_count": null,
      "id": "609c8820-5d3d-4484-951b-314684866cb3",
      "metadata": {
        "tags": [],
        "id": "609c8820-5d3d-4484-951b-314684866cb3"
      },
      "outputs": [],
      "source": [
        "\n",
        "service = QiskitRuntimeService(\"ibm_quantum\",\"API-TOKEN\")\n",
        "backend = service.backend(\"ibm_sherbrooke\")\n",
        "print(backend)\n",
        "pass_manager = generate_preset_pass_manager(backend=backend,optimization_level=3)\n"
      ]
    },
    {
      "cell_type": "code",
      "execution_count": 7,
      "id": "8a913870-ab9c-4784-843c-905add80e969",
      "metadata": {
        "tags": [],
        "id": "8a913870-ab9c-4784-843c-905add80e969"
      },
      "outputs": [],
      "source": [
        "dt = Parameter('δt')\n",
        "dt_val = [5*np.pi/2.]\n",
        "h_vals = np.linspace(0., np.pi/2, 12)\n",
        "anisotropies = {\"Anisotropic\":-5., \"XXX\":1}\n",
        "num_spins = 50\n",
        "hamiltonians = {}\n",
        "time_evolution_operators = {}\n",
        "trotter_circuits = {}\n",
        "isa_circuits = {}\n",
        "isa_z_observables = {}\n",
        "z_observables = [ SparsePauliOp.from_sparse_list([('Z', [i], 1.)], num_qubits=num_spins) for i in range(num_spins) ]\n",
        "\n",
        "\n",
        "for phase, anisotropy in anisotropies.items():\n",
        "\n",
        "    hamiltonians[phase]=[build_layered_hamiltonian(num_spins,anisotropy,h) for h in h_vals]\n",
        "    time_evolution_operators[phase]=[PauliEvolutionGate(hamiltonians[phase][i], time=dt) for i in range(len(h_vals))]\n",
        "    trotter_factory = LieTrotter(reps=4)\n",
        "    trotter_circuits[phase]=[trotter_factory.synthesize(time_evolution_operators[phase][i]) for i in range(len(h_vals))]\n",
        "    isa_circuits[phase]=[pass_manager.run(trotter_circuits[phase][i]) for i in range(len(h_vals))]\n",
        "    isa_z_observables[phase]=[[abs_obs.apply_layout(layout=isa_circuits[phase][i].layout) for abs_obs in z_observables] for i in range(len(h_vals))]\n",
        ""
      ]
    },
    {
      "cell_type": "code",
      "execution_count": 8,
      "id": "2f76bd65-1cb3-492a-a247-6d639510df5a",
      "metadata": {
        "tags": [],
        "id": "2f76bd65-1cb3-492a-a247-6d639510df5a"
      },
      "outputs": [],
      "source": [
        "all_z_obs_pubs = {}\n",
        "for phase, circuits in isa_circuits.items():\n",
        "    all_z_obs_pubs[phase]=[(circuits[i],isa_z_observables[phase][i],dt_val) for i in range(len(circuits))]"
      ]
    },
    {
      "cell_type": "code",
      "execution_count": null,
      "id": "69c7bc2d-42a7-4509-be4f-9a9cd482fd2f",
      "metadata": {
        "tags": [],
        "id": "69c7bc2d-42a7-4509-be4f-9a9cd482fd2f"
      },
      "outputs": [],
      "source": [
        "print(circuits[0].depth())\n",
        "print(circuits[0].count_ops())"
      ]
    },
    {
      "cell_type": "code",
      "execution_count": null,
      "id": "3d593fc1-cd51-489a-995f-ad7f3b064ce7",
      "metadata": {
        "scrolled": true,
        "id": "3d593fc1-cd51-489a-995f-ad7f3b064ce7"
      },
      "outputs": [],
      "source": [
        "all_z_obs_jobs = {}\n",
        "\n",
        "with Batch(backend=backend) as batch:\n",
        "    print(f\"Session ID: {batch.session_id}\")\n",
        "    print(f\"Backend: {batch.backend()}\")\n",
        "\n",
        "    estimator = EstimatorV2(session=batch)\n",
        "    for phase,publist in all_z_obs_pubs.items():\n",
        "        all_z_obs_jobs[phase]=[estimator.run(pubs=[pub]).job_id for pub in publist]"
      ]
    },
    {
      "cell_type": "code",
      "execution_count": null,
      "id": "148a8422-8b21-414d-97dd-f3f91b2c9fc9",
      "metadata": {
        "tags": [],
        "id": "148a8422-8b21-414d-97dd-f3f91b2c9fc9"
      },
      "outputs": [],
      "source": [
        "jobids={}\n",
        "for phase,jobs in all_z_obs_jobs.items():\n",
        "    jobids[phase]=[job() for job in jobs]\n",
        "print(jobids)"
      ]
    },
    {
      "cell_type": "code",
      "execution_count": null,
      "id": "a8f3b4a8-f538-4e49-915d-c5166d35954f",
      "metadata": {
        "tags": [],
        "id": "a8f3b4a8-f538-4e49-915d-c5166d35954f"
      },
      "outputs": [],
      "source": [
        "fname = 'idump'\n",
        "with open(fname, 'w') as file:\n",
        "    json.dump(jobids, file)"
      ]
    },
    {
      "cell_type": "code",
      "execution_count": null,
      "id": "1d08652c-9785-44e4-8298-719d19a309cf",
      "metadata": {
        "tags": [],
        "id": "1d08652c-9785-44e4-8298-719d19a309cf"
      },
      "outputs": [],
      "source": [
        "\n",
        "with open('idump','r') as file:\n",
        "    joebids=json.load(file)\n",
        "all_job_data = {}\n",
        "for phase,jobs in joebids.items():\n",
        "    all_job_data[phase]=[service.job(job).result() for job in jobs]\n",
        "\n",
        "print(all_job_data)\n"
      ]
    },
    {
      "cell_type": "code",
      "execution_count": null,
      "id": "1692a322-071b-4085-ab68-bb2ae75db792",
      "metadata": {
        "id": "1692a322-071b-4085-ab68-bb2ae75db792"
      },
      "outputs": [],
      "source": [
        "avg_z_data = {}\n",
        "for phase,results in all_job_data.items():\n",
        "    avg_z_data[phase]=[np.mean(res[0].data.evs) for res in results]"
      ]
    },
    {
      "cell_type": "code",
      "execution_count": null,
      "id": "0a787bbc-2308-43d5-888c-e246dd81d9e6",
      "metadata": {
        "tags": [],
        "id": "0a787bbc-2308-43d5-888c-e246dd81d9e6"
      },
      "outputs": [],
      "source": [
        "sns.set()\n",
        "\n",
        "h_vals = np.linspace(0., np.pi/2, 12)\n",
        "x_smooth=np.linspace(h_vals.min(),h_vals.max(),64)\n",
        "for phase,res in avg_z_data.items():\n",
        "    spl=make_interp_spline(h_vals,res,k=3)\n",
        "    smooth_res=spl(x_smooth)\n",
        "    #optional interpolated graph - not used here\n",
        "    plt.plot(x_smooth, smooth_res, linestyle='-', label=phase)\n",
        "plt.xlabel('Magnetic Field Strength(h)')\n",
        "plt.ylabel('Avg Z')\n",
        "plt.title('Dynamics of Zi for different Magnetic Field Strength')\n",
        "plt.legend()\n",
        "plt.show()"
      ]
    },
    {
      "cell_type": "code",
      "execution_count": null,
      "id": "e8a4b236-7797-4cde-b310-19b18f8e8e9d",
      "metadata": {
        "tags": [],
        "id": "e8a4b236-7797-4cde-b310-19b18f8e8e9d"
      },
      "outputs": [],
      "source": [
        "import datetime\n",
        "from IPython.display import HTML, display\n",
        "\n",
        "\n",
        "def qiskit_copyright(line=\"\", cell=None):\n",
        "    \"\"\"IBM copyright\"\"\"\n",
        "    now = datetime.datetime.now()\n",
        "\n",
        "    html = \"<div style='width: 100%; background-color:#d5d9e0;\"\n",
        "    html += \"padding-left: 10px; padding-bottom: 10px; padding-right: 10px; padding-top: 5px'>\"\n",
        "    html += \"<p>&copy; Copyright IBM 2017, %s.</p>\" % now.year\n",
        "    html += \"<p>This code is licensed under the Apache License, Version 2.0. You may<br>\"\n",
        "    html += \"obtain a copy of this license in the LICENSE.txt file in the root directory<br> \"\n",
        "    html += \"of this source tree or at http://www.apache.org/licenses/LICENSE-2.0.\"\n",
        "\n",
        "    html += \"<p>Any modifications or derivative works of this code must retain this<br>\"\n",
        "    html += \"copyright notice, and modified files need to carry a notice indicating<br>\"\n",
        "    html += \"that they have been altered from the originals.</p>\"\n",
        "    html += \"</div>\"\n",
        "    return display(HTML(html))\n",
        "\n",
        "\n",
        "qiskit_copyright()"
      ]
    }
  ],
  "metadata": {
    "kernelspec": {
      "display_name": "Python 3 [Default]",
      "language": "python",
      "name": "python3"
    },
    "language_info": {
      "codemirror_mode": {
        "name": "ipython",
        "version": 3
      },
      "file_extension": ".py",
      "mimetype": "text/x-python",
      "name": "python",
      "nbconvert_exporter": "python",
      "pygments_lexer": "ipython3",
      "version": "3.11.9"
    },
    "colab": {
      "provenance": []
    }
  },
  "nbformat": 4,
  "nbformat_minor": 5
}